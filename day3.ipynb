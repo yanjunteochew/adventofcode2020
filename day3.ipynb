{
 "cells": [
  {
   "cell_type": "code",
   "execution_count": 1,
   "metadata": {},
   "outputs": [],
   "source": [
    "import pandas as pd"
   ]
  },
  {
   "cell_type": "code",
   "execution_count": 2,
   "metadata": {},
   "outputs": [],
   "source": [
    "data = pd.read_csv('data/input-day3.txt', header=None)"
   ]
  },
  {
   "cell_type": "code",
   "execution_count": 3,
   "metadata": {},
   "outputs": [],
   "source": [
    "data = data.reset_index()"
   ]
  },
  {
   "cell_type": "code",
   "execution_count": 4,
   "metadata": {},
   "outputs": [
    {
     "data": {
      "text/plain": [
       "1"
      ]
     },
     "execution_count": 4,
     "metadata": {},
     "output_type": "execute_result"
    }
   ],
   "source": [
    "def istree(index, datarow, right):\n",
    "    while index*right >= len(datarow):\n",
    "        datarow = datarow+datarow\n",
    "    if datarow[index*right] == '#':\n",
    "        return 1\n",
    "    else:\n",
    "        return 0\n",
    "istree(322,'..#..#.......#....#....###.#...',3)\n",
    "    "
   ]
  },
  {
   "cell_type": "code",
   "execution_count": 5,
   "metadata": {},
   "outputs": [
    {
     "data": {
      "text/plain": [
       "0"
      ]
     },
     "execution_count": 5,
     "metadata": {},
     "output_type": "execute_result"
    }
   ],
   "source": [
    "def iseventree(index, datarow, right):\n",
    "    if (index%2 != 0):\n",
    "        return 0\n",
    "    while index*right >= len(datarow):\n",
    "        datarow = datarow+datarow\n",
    "    if index == 0:\n",
    "        item = index\n",
    "    else:\n",
    "        item = int(index/2)\n",
    "    if datarow[item] == '#':\n",
    "        return 1\n",
    "    else:\n",
    "        return 0\n",
    "    \n",
    "iseventree(322,'..#..#.......#....#....###.#...',1)\n",
    "    "
   ]
  },
  {
   "cell_type": "code",
   "execution_count": 6,
   "metadata": {},
   "outputs": [],
   "source": [
    "data['tree3'] = data.apply(lambda row: istree(row['index'], row[0],3), axis=1)"
   ]
  },
  {
   "cell_type": "code",
   "execution_count": 7,
   "metadata": {},
   "outputs": [],
   "source": [
    "data['tree1'] = data.apply(lambda row: istree(row['index'], row[0],1), axis=1)"
   ]
  },
  {
   "cell_type": "code",
   "execution_count": 8,
   "metadata": {},
   "outputs": [],
   "source": [
    "data['tree5'] = data.apply(lambda row: istree(row['index'], row[0],5), axis=1)"
   ]
  },
  {
   "cell_type": "code",
   "execution_count": 9,
   "metadata": {},
   "outputs": [],
   "source": [
    "data['tree7'] = data.apply(lambda row: istree(row['index'], row[0],7), axis=1)"
   ]
  },
  {
   "cell_type": "code",
   "execution_count": 10,
   "metadata": {},
   "outputs": [],
   "source": [
    "data['eventree1'] = data.apply(lambda row: iseventree(row['index'], row[0],1), axis=1)"
   ]
  },
  {
   "cell_type": "code",
   "execution_count": 11,
   "metadata": {},
   "outputs": [
    {
     "data": {
      "text/plain": [
       "2608962048"
      ]
     },
     "execution_count": 11,
     "metadata": {},
     "output_type": "execute_result"
    }
   ],
   "source": [
    "data['tree3'].sum()*data['tree1'].sum()*data['tree5'].sum()*data['tree7'].sum()*data['eventree1'].sum()"
   ]
  },
  {
   "cell_type": "code",
   "execution_count": null,
   "metadata": {},
   "outputs": [],
   "source": []
  }
 ],
 "metadata": {
  "kernelspec": {
   "display_name": "Python 3",
   "language": "python",
   "name": "python3"
  },
  "language_info": {
   "codemirror_mode": {
    "name": "ipython",
    "version": 3
   },
   "file_extension": ".py",
   "mimetype": "text/x-python",
   "name": "python",
   "nbconvert_exporter": "python",
   "pygments_lexer": "ipython3",
   "version": "3.6.5"
  }
 },
 "nbformat": 4,
 "nbformat_minor": 4
}
