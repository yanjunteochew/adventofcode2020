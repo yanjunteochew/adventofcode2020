{
 "cells": [
  {
   "cell_type": "code",
   "execution_count": 1,
   "metadata": {},
   "outputs": [],
   "source": [
    "import pandas as pd"
   ]
  },
  {
   "cell_type": "code",
   "execution_count": 2,
   "metadata": {},
   "outputs": [
    {
     "data": {
      "text/plain": [
       "('mirrored gold',\n",
       " ['wavy brown', 'posh beige', 'light crimson', 'plaid blue', 'vibrant salmon'])"
      ]
     },
     "execution_count": 2,
     "metadata": {},
     "output_type": "execute_result"
    }
   ],
   "source": [
    "def getkeyval(row):\n",
    "    dictrow = {}\n",
    "    key = row[0].split('bags contain')[0].strip()\n",
    "    value0 = row[0].split('contain')[1].strip().split(' ',1)[1].rsplit(' ',1)[0]\n",
    "    dictrow[key] = [value0]\n",
    "    for item in range(1,(len(row))):\n",
    "        if isinstance(row[item], str):\n",
    "            value = row[item].strip().split(' ',1)[1].strip().rsplit(' ',1)[0]\n",
    "            dictrow[key].append(value)\n",
    "    return key, dictrow[key]\n",
    "getkeyval(['mirrored gold bags contain 3 wavy brown bags', '5 posh beige bags','3 light crimson bags','4 plaid blue bags','3 vibrant salmon bags.'])\n"
   ]
  },
  {
   "cell_type": "code",
   "execution_count": 3,
   "metadata": {},
   "outputs": [],
   "source": [
    "test = pd.read_csv('data/day7test.txt',header=None)\n",
    "test[['key','value']] = test.apply(lambda x: getkeyval(x), axis=1, result_type='expand')\n",
    "dictionarytest = dict(zip(test.key, test.value))"
   ]
  },
  {
   "cell_type": "code",
   "execution_count": 4,
   "metadata": {},
   "outputs": [],
   "source": [
    "data = pd.read_csv('data/input-day7.txt', header=None)\n",
    "data[['key','value']] = data.apply(lambda x: getkeyval(x), axis=1, result_type='expand')\n",
    "dictionaryactual = dict(zip(data.key, data.value))"
   ]
  },
  {
   "cell_type": "code",
   "execution_count": 5,
   "metadata": {},
   "outputs": [],
   "source": [
    "def getrecursive(df, nextouter):\n",
    "    allcolours = []\n",
    "    while len(nextouter) != 0:\n",
    "        outercolours = []\n",
    "        for item in nextouter:\n",
    "            colours = df[df['value'].astype(str).str.contains(item, na=False)]['key']\n",
    "            outercolor = colours.to_list()\n",
    "            outercolours = outercolours + outercolor\n",
    "        nextouter = list(set(outercolours))\n",
    "        allcolours = allcolours + nextouter\n",
    "    return allcolours\n"
   ]
  },
  {
   "cell_type": "code",
   "execution_count": 6,
   "metadata": {},
   "outputs": [
    {
     "data": {
      "text/plain": [
       "4"
      ]
     },
     "execution_count": 6,
     "metadata": {},
     "output_type": "execute_result"
    }
   ],
   "source": [
    "allcolourstest = getrecursive(test, ['shiny gold'])\n",
    "len(set(allcolourstest))"
   ]
  },
  {
   "cell_type": "code",
   "execution_count": 7,
   "metadata": {},
   "outputs": [
    {
     "data": {
      "text/plain": [
       "197"
      ]
     },
     "execution_count": 7,
     "metadata": {},
     "output_type": "execute_result"
    }
   ],
   "source": [
    "allcolours = getrecursive(data, ['shiny gold'])\n",
    "len(set(allcolours))"
   ]
  },
  {
   "cell_type": "code",
   "execution_count": 25,
   "metadata": {},
   "outputs": [
    {
     "data": {
      "text/plain": [
       "('mirrored gold',\n",
       " [['wavy brown', '3'],\n",
       "  ['posh beige', '5'],\n",
       "  ['light crimson', '3'],\n",
       "  ['plaid blue', '4'],\n",
       "  ['vibrant salmon', '3']])"
      ]
     },
     "execution_count": 25,
     "metadata": {},
     "output_type": "execute_result"
    }
   ],
   "source": [
    "def getkeyvalnum(row):\n",
    "    dictrow = {}\n",
    "    key = row[0].split('bags contain')[0].strip()\n",
    "    value0 = row[0].split('contain')[1].strip().split(' ',1)[1].rsplit(' ',1)[0]\n",
    "    num0 = row[0].split('contain')[1].strip().split(' ',1)[0]\n",
    "    dictrow[key] = [[value0,num0]]\n",
    "    for item in range(1,(len(row))):\n",
    "        if isinstance(row[item], str):\n",
    "            value = row[item].strip().split(' ',1)[1].strip().rsplit(' ',1)[0]\n",
    "            num = row[item].strip().split(' ',1)[0]\n",
    "            dictrow[key].append([value,num])\n",
    "    return key, dictrow[key]\n",
    "getkeyvalnum(['mirrored gold bags contain 3 wavy brown bags', '5 posh beige bags','3 light crimson bags','4 plaid blue bags','3 vibrant salmon bags.'])\n"
   ]
  },
  {
   "cell_type": "code",
   "execution_count": 87,
   "metadata": {},
   "outputs": [],
   "source": [
    "def getbags(df, thisbag):\n",
    "    colours = df[df['key'] == thisbag]['value'].to_list()[0]\n",
    "    numofbags = 0\n",
    "    for bag in colours:\n",
    "        internalbags = 0\n",
    "        if(bag[1]=='no'):\n",
    "            continue\n",
    "        internalbags = int(bag[1]) * getbags(df, bag[0])\n",
    "        numofbags = numofbags + internalbags + int(bag[1])\n",
    "    return numofbags\n",
    "# getbags(data, 'shiny gold')"
   ]
  },
  {
   "cell_type": "code",
   "execution_count": 28,
   "metadata": {},
   "outputs": [],
   "source": [
    "data = pd.read_csv('data/input-day7.txt', header=None)\n",
    "data[['key','value']] = data.apply(lambda x: getkeyvalnum(x), axis=1, result_type='expand')\n",
    "dictionarynum = dict(zip(data.key, data.value))"
   ]
  },
  {
   "cell_type": "code",
   "execution_count": 93,
   "metadata": {},
   "outputs": [
    {
     "data": {
      "text/plain": [
       "85324"
      ]
     },
     "execution_count": 93,
     "metadata": {},
     "output_type": "execute_result"
    }
   ],
   "source": [
    "getbags(data, 'shiny gold')"
   ]
  },
  {
   "cell_type": "code",
   "execution_count": 43,
   "metadata": {},
   "outputs": [],
   "source": [
    "test = pd.read_csv('data/day7test.txt',header=None)\n",
    "test[['key','value']] = test.apply(lambda x: getkeyvalnum(x), axis=1, result_type='expand')\n",
    "dictionarynumtest = dict(zip(test.key, test.value))"
   ]
  },
  {
   "cell_type": "code",
   "execution_count": 92,
   "metadata": {},
   "outputs": [
    {
     "data": {
      "text/plain": [
       "126"
      ]
     },
     "execution_count": 92,
     "metadata": {},
     "output_type": "execute_result"
    }
   ],
   "source": [
    "getbags(test,'shiny gold')"
   ]
  }
 ],
 "metadata": {
  "kernelspec": {
   "display_name": "Python 3",
   "language": "python",
   "name": "python3"
  },
  "language_info": {
   "codemirror_mode": {
    "name": "ipython",
    "version": 3
   },
   "file_extension": ".py",
   "mimetype": "text/x-python",
   "name": "python",
   "nbconvert_exporter": "python",
   "pygments_lexer": "ipython3",
   "version": "3.6.5"
  }
 },
 "nbformat": 4,
 "nbformat_minor": 4
}
