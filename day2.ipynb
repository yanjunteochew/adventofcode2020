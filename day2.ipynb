{
 "cells": [
  {
   "cell_type": "code",
   "execution_count": 1,
   "metadata": {},
   "outputs": [],
   "source": [
    "import pandas as pd"
   ]
  },
  {
   "cell_type": "code",
   "execution_count": 9,
   "metadata": {},
   "outputs": [],
   "source": [
    "data = pd.read_csv('data/input-day2.txt', delimiter = '[: -]', header = None, engine='python')"
   ]
  },
  {
   "cell_type": "code",
   "execution_count": 10,
   "metadata": {},
   "outputs": [
    {
     "data": {
      "text/html": [
       "<div>\n",
       "<style scoped>\n",
       "    .dataframe tbody tr th:only-of-type {\n",
       "        vertical-align: middle;\n",
       "    }\n",
       "\n",
       "    .dataframe tbody tr th {\n",
       "        vertical-align: top;\n",
       "    }\n",
       "\n",
       "    .dataframe thead th {\n",
       "        text-align: right;\n",
       "    }\n",
       "</style>\n",
       "<table border=\"1\" class=\"dataframe\">\n",
       "  <thead>\n",
       "    <tr style=\"text-align: right;\">\n",
       "      <th></th>\n",
       "      <th>0</th>\n",
       "      <th>1</th>\n",
       "      <th>2</th>\n",
       "      <th>3</th>\n",
       "      <th>4</th>\n",
       "    </tr>\n",
       "  </thead>\n",
       "  <tbody>\n",
       "    <tr>\n",
       "      <th>0</th>\n",
       "      <td>9</td>\n",
       "      <td>12</td>\n",
       "      <td>q</td>\n",
       "      <td>NaN</td>\n",
       "      <td>qqqxhnhdmqqqqjz</td>\n",
       "    </tr>\n",
       "    <tr>\n",
       "      <th>1</th>\n",
       "      <td>12</td>\n",
       "      <td>16</td>\n",
       "      <td>z</td>\n",
       "      <td>NaN</td>\n",
       "      <td>zzzzzznwlzzjzdzf</td>\n",
       "    </tr>\n",
       "    <tr>\n",
       "      <th>2</th>\n",
       "      <td>4</td>\n",
       "      <td>7</td>\n",
       "      <td>s</td>\n",
       "      <td>NaN</td>\n",
       "      <td>sssgssw</td>\n",
       "    </tr>\n",
       "    <tr>\n",
       "      <th>3</th>\n",
       "      <td>13</td>\n",
       "      <td>14</td>\n",
       "      <td>p</td>\n",
       "      <td>NaN</td>\n",
       "      <td>pppqzpppppppfpppp</td>\n",
       "    </tr>\n",
       "    <tr>\n",
       "      <th>4</th>\n",
       "      <td>2</td>\n",
       "      <td>9</td>\n",
       "      <td>m</td>\n",
       "      <td>NaN</td>\n",
       "      <td>jknmmmmmmdmmmrm</td>\n",
       "    </tr>\n",
       "    <tr>\n",
       "      <th>...</th>\n",
       "      <td>...</td>\n",
       "      <td>...</td>\n",
       "      <td>...</td>\n",
       "      <td>...</td>\n",
       "      <td>...</td>\n",
       "    </tr>\n",
       "    <tr>\n",
       "      <th>995</th>\n",
       "      <td>3</td>\n",
       "      <td>5</td>\n",
       "      <td>s</td>\n",
       "      <td>NaN</td>\n",
       "      <td>sbsssss</td>\n",
       "    </tr>\n",
       "    <tr>\n",
       "      <th>996</th>\n",
       "      <td>4</td>\n",
       "      <td>6</td>\n",
       "      <td>r</td>\n",
       "      <td>NaN</td>\n",
       "      <td>wzsrffr</td>\n",
       "    </tr>\n",
       "    <tr>\n",
       "      <th>997</th>\n",
       "      <td>10</td>\n",
       "      <td>13</td>\n",
       "      <td>r</td>\n",
       "      <td>NaN</td>\n",
       "      <td>rrrnrkfrrcrtnrlh</td>\n",
       "    </tr>\n",
       "    <tr>\n",
       "      <th>998</th>\n",
       "      <td>16</td>\n",
       "      <td>18</td>\n",
       "      <td>m</td>\n",
       "      <td>NaN</td>\n",
       "      <td>mmtmrxmmmmmmmmmcmmm</td>\n",
       "    </tr>\n",
       "    <tr>\n",
       "      <th>999</th>\n",
       "      <td>9</td>\n",
       "      <td>11</td>\n",
       "      <td>b</td>\n",
       "      <td>NaN</td>\n",
       "      <td>bkbltdvbtwbbtsb</td>\n",
       "    </tr>\n",
       "  </tbody>\n",
       "</table>\n",
       "<p>1000 rows × 5 columns</p>\n",
       "</div>"
      ],
      "text/plain": [
       "      0   1  2   3                    4\n",
       "0     9  12  q NaN      qqqxhnhdmqqqqjz\n",
       "1    12  16  z NaN     zzzzzznwlzzjzdzf\n",
       "2     4   7  s NaN              sssgssw\n",
       "3    13  14  p NaN    pppqzpppppppfpppp\n",
       "4     2   9  m NaN      jknmmmmmmdmmmrm\n",
       "..   ..  .. ..  ..                  ...\n",
       "995   3   5  s NaN              sbsssss\n",
       "996   4   6  r NaN              wzsrffr\n",
       "997  10  13  r NaN     rrrnrkfrrcrtnrlh\n",
       "998  16  18  m NaN  mmtmrxmmmmmmmmmcmmm\n",
       "999   9  11  b NaN      bkbltdvbtwbbtsb\n",
       "\n",
       "[1000 rows x 5 columns]"
      ]
     },
     "execution_count": 10,
     "metadata": {},
     "output_type": "execute_result"
    }
   ],
   "source": [
    "data"
   ]
  },
  {
   "cell_type": "code",
   "execution_count": 39,
   "metadata": {},
   "outputs": [
    {
     "data": {
      "text/plain": [
       "1"
      ]
     },
     "execution_count": 39,
     "metadata": {},
     "output_type": "execute_result"
    }
   ],
   "source": [
    "def count(char, data, minimum, maximum):\n",
    "    \n",
    "    count = data.count(char)\n",
    "\n",
    "    return count\n",
    "\n",
    "count('c', 'abcd')"
   ]
  },
  {
   "cell_type": "code",
   "execution_count": 72,
   "metadata": {},
   "outputs": [
    {
     "data": {
      "text/plain": [
       "0"
      ]
     },
     "execution_count": 72,
     "metadata": {},
     "output_type": "execute_result"
    }
   ],
   "source": [
    "def check(char, data, pos1, pos2):\n",
    "    count = 0\n",
    "    if data[pos1-1] == char:\n",
    "        count = count + 1\n",
    "    if data[pos2-1] == char:\n",
    "        count = count + 1\n",
    "    \n",
    "    if count == 1:\n",
    "        return 1\n",
    "    return 0\n",
    "\n",
    "check('c', 'cbcd',1,3)"
   ]
  },
  {
   "cell_type": "code",
   "execution_count": 51,
   "metadata": {},
   "outputs": [],
   "source": [
    "data['count'] = data.apply(lambda row: count(row[2],row[4]), axis=1)"
   ]
  },
  {
   "cell_type": "code",
   "execution_count": 57,
   "metadata": {},
   "outputs": [
    {
     "data": {
      "text/plain": [
       "1"
      ]
     },
     "execution_count": 57,
     "metadata": {},
     "output_type": "execute_result"
    }
   ],
   "source": [
    "def valid(char, data, minimum, maximum):\n",
    "    \n",
    "    count = data.count(char)\n",
    "    if (count >= minimum) & (count <= maximum):\n",
    "        return 1\n",
    "    else:\n",
    "        return 0\n",
    "\n",
    "valid('c', 'abccd', 1, 6)"
   ]
  },
  {
   "cell_type": "code",
   "execution_count": 59,
   "metadata": {},
   "outputs": [],
   "source": [
    "\n",
    "data['valid'] = data.apply(lambda row: valid(row[2],row[4],row[0],row[1]), axis=1)"
   ]
  },
  {
   "cell_type": "code",
   "execution_count": 74,
   "metadata": {},
   "outputs": [],
   "source": [
    "\n",
    "data['check'] = data.apply(lambda row: check(row[2],row[4],row[0],row[1]), axis=1)"
   ]
  },
  {
   "cell_type": "code",
   "execution_count": 75,
   "metadata": {},
   "outputs": [
    {
     "data": {
      "text/html": [
       "<div>\n",
       "<style scoped>\n",
       "    .dataframe tbody tr th:only-of-type {\n",
       "        vertical-align: middle;\n",
       "    }\n",
       "\n",
       "    .dataframe tbody tr th {\n",
       "        vertical-align: top;\n",
       "    }\n",
       "\n",
       "    .dataframe thead th {\n",
       "        text-align: right;\n",
       "    }\n",
       "</style>\n",
       "<table border=\"1\" class=\"dataframe\">\n",
       "  <thead>\n",
       "    <tr style=\"text-align: right;\">\n",
       "      <th></th>\n",
       "      <th>0</th>\n",
       "      <th>1</th>\n",
       "      <th>2</th>\n",
       "      <th>3</th>\n",
       "      <th>4</th>\n",
       "      <th>valid</th>\n",
       "      <th>count</th>\n",
       "      <th>check</th>\n",
       "    </tr>\n",
       "  </thead>\n",
       "  <tbody>\n",
       "    <tr>\n",
       "      <th>0</th>\n",
       "      <td>9</td>\n",
       "      <td>12</td>\n",
       "      <td>q</td>\n",
       "      <td>NaN</td>\n",
       "      <td>qqqxhnhdmqqqqjz</td>\n",
       "      <td>0</td>\n",
       "      <td>7</td>\n",
       "      <td>1</td>\n",
       "    </tr>\n",
       "    <tr>\n",
       "      <th>1</th>\n",
       "      <td>12</td>\n",
       "      <td>16</td>\n",
       "      <td>z</td>\n",
       "      <td>NaN</td>\n",
       "      <td>zzzzzznwlzzjzdzf</td>\n",
       "      <td>0</td>\n",
       "      <td>10</td>\n",
       "      <td>0</td>\n",
       "    </tr>\n",
       "    <tr>\n",
       "      <th>2</th>\n",
       "      <td>4</td>\n",
       "      <td>7</td>\n",
       "      <td>s</td>\n",
       "      <td>NaN</td>\n",
       "      <td>sssgssw</td>\n",
       "      <td>1</td>\n",
       "      <td>5</td>\n",
       "      <td>0</td>\n",
       "    </tr>\n",
       "    <tr>\n",
       "      <th>3</th>\n",
       "      <td>13</td>\n",
       "      <td>14</td>\n",
       "      <td>p</td>\n",
       "      <td>NaN</td>\n",
       "      <td>pppqzpppppppfpppp</td>\n",
       "      <td>1</td>\n",
       "      <td>14</td>\n",
       "      <td>1</td>\n",
       "    </tr>\n",
       "    <tr>\n",
       "      <th>4</th>\n",
       "      <td>2</td>\n",
       "      <td>9</td>\n",
       "      <td>m</td>\n",
       "      <td>NaN</td>\n",
       "      <td>jknmmmmmmdmmmrm</td>\n",
       "      <td>0</td>\n",
       "      <td>10</td>\n",
       "      <td>1</td>\n",
       "    </tr>\n",
       "    <tr>\n",
       "      <th>...</th>\n",
       "      <td>...</td>\n",
       "      <td>...</td>\n",
       "      <td>...</td>\n",
       "      <td>...</td>\n",
       "      <td>...</td>\n",
       "      <td>...</td>\n",
       "      <td>...</td>\n",
       "      <td>...</td>\n",
       "    </tr>\n",
       "    <tr>\n",
       "      <th>995</th>\n",
       "      <td>3</td>\n",
       "      <td>5</td>\n",
       "      <td>s</td>\n",
       "      <td>NaN</td>\n",
       "      <td>sbsssss</td>\n",
       "      <td>0</td>\n",
       "      <td>6</td>\n",
       "      <td>0</td>\n",
       "    </tr>\n",
       "    <tr>\n",
       "      <th>996</th>\n",
       "      <td>4</td>\n",
       "      <td>6</td>\n",
       "      <td>r</td>\n",
       "      <td>NaN</td>\n",
       "      <td>wzsrffr</td>\n",
       "      <td>0</td>\n",
       "      <td>2</td>\n",
       "      <td>1</td>\n",
       "    </tr>\n",
       "    <tr>\n",
       "      <th>997</th>\n",
       "      <td>10</td>\n",
       "      <td>13</td>\n",
       "      <td>r</td>\n",
       "      <td>NaN</td>\n",
       "      <td>rrrnrkfrrcrtnrlh</td>\n",
       "      <td>0</td>\n",
       "      <td>8</td>\n",
       "      <td>0</td>\n",
       "    </tr>\n",
       "    <tr>\n",
       "      <th>998</th>\n",
       "      <td>16</td>\n",
       "      <td>18</td>\n",
       "      <td>m</td>\n",
       "      <td>NaN</td>\n",
       "      <td>mmtmrxmmmmmmmmmcmmm</td>\n",
       "      <td>0</td>\n",
       "      <td>15</td>\n",
       "      <td>1</td>\n",
       "    </tr>\n",
       "    <tr>\n",
       "      <th>999</th>\n",
       "      <td>9</td>\n",
       "      <td>11</td>\n",
       "      <td>b</td>\n",
       "      <td>NaN</td>\n",
       "      <td>bkbltdvbtwbbtsb</td>\n",
       "      <td>0</td>\n",
       "      <td>6</td>\n",
       "      <td>1</td>\n",
       "    </tr>\n",
       "  </tbody>\n",
       "</table>\n",
       "<p>1000 rows × 8 columns</p>\n",
       "</div>"
      ],
      "text/plain": [
       "      0   1  2   3                    4  valid  count  check\n",
       "0     9  12  q NaN      qqqxhnhdmqqqqjz      0      7      1\n",
       "1    12  16  z NaN     zzzzzznwlzzjzdzf      0     10      0\n",
       "2     4   7  s NaN              sssgssw      1      5      0\n",
       "3    13  14  p NaN    pppqzpppppppfpppp      1     14      1\n",
       "4     2   9  m NaN      jknmmmmmmdmmmrm      0     10      1\n",
       "..   ..  .. ..  ..                  ...    ...    ...    ...\n",
       "995   3   5  s NaN              sbsssss      0      6      0\n",
       "996   4   6  r NaN              wzsrffr      0      2      1\n",
       "997  10  13  r NaN     rrrnrkfrrcrtnrlh      0      8      0\n",
       "998  16  18  m NaN  mmtmrxmmmmmmmmmcmmm      0     15      1\n",
       "999   9  11  b NaN      bkbltdvbtwbbtsb      0      6      1\n",
       "\n",
       "[1000 rows x 8 columns]"
      ]
     },
     "execution_count": 75,
     "metadata": {},
     "output_type": "execute_result"
    }
   ],
   "source": [
    "data"
   ]
  },
  {
   "cell_type": "code",
   "execution_count": 76,
   "metadata": {},
   "outputs": [
    {
     "data": {
      "text/plain": [
       "346"
      ]
     },
     "execution_count": 76,
     "metadata": {},
     "output_type": "execute_result"
    }
   ],
   "source": [
    "data['check'].sum()"
   ]
  }
 ],
 "metadata": {
  "kernelspec": {
   "display_name": "Python 3",
   "language": "python",
   "name": "python3"
  },
  "language_info": {
   "codemirror_mode": {
    "name": "ipython",
    "version": 3
   },
   "file_extension": ".py",
   "mimetype": "text/x-python",
   "name": "python",
   "nbconvert_exporter": "python",
   "pygments_lexer": "ipython3",
   "version": "3.6.5"
  }
 },
 "nbformat": 4,
 "nbformat_minor": 4
}
